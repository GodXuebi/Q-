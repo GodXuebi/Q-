{
 "cells": [
  {
   "cell_type": "code",
   "execution_count": 30,
   "metadata": {},
   "outputs": [],
   "source": [
    "%matplotlib inline\n",
    "import pandas as pd\n",
    "import numpy as np\n",
    "import matplotlib.pyplot as plt\n",
    "import seaborn as sns\n",
    "import time\n",
    "from PIL import Image\n",
    "from PIL import ImageDraw\n",
    "plt.style.use({'figure.figsize':(10, 10)})"
   ]
  },
  {
   "cell_type": "markdown",
   "metadata": {},
   "source": [
    "# Q-Table One"
   ]
  },
  {
   "cell_type": "markdown",
   "metadata": {},
   "source": [
    "### Q-table One is used to void the obstacles automatically.\n",
    "### Columns:Nearest|Near|Medium|Far\n",
    "##### Columns register the states\n",
    "### Rows:Up|Down|Turn_left_45 degree|Turn_right_45_degree\n",
    "##### Rows register the actions"
   ]
  },
  {
   "cell_type": "code",
   "execution_count": 31,
   "metadata": {
    "collapsed": true
   },
   "outputs": [],
   "source": [
    "#constant\n",
    "Epsilon_start=1\n",
    "Epsilon_final=0.01\n",
    "Decay_Rate=0.000001#he dacaying rate of the Epsilon, the range of the epsilon is 0.01-1, initially it is 1.\n",
    "Action_times=0 #Rigister the totality of the times of selecting actions, including the random selections and selection based on Q_Table\n",
    "Velocity_tripod=0.289*40\n",
    "Up_D=np.array([-40,-20,0,20,40])\n",
    "Left_D=np.array([-60,-80,-100,-120])\n",
    "Right_D=np.array([60,80,100,120])\n",
    "Robot_R=40\n",
    "Beta=0.9\n",
    "Alpha=0.2"
   ]
  },
  {
   "cell_type": "code",
   "execution_count": 32,
   "metadata": {
    "collapsed": true
   },
   "outputs": [],
   "source": [
    "#Nearest(<50cm)||Near(50cm-130cm)||Medium(130cm-210cm)|Far(>210cm)\n",
    "#Safe distance=1cm\n",
    "States=np.array(['L0R0U0','L0R0U1','L0R0U2','L0R0U3',\n",
    "                'L0R1U0','L0R1U1','L0R1U2','L0R1U3',\n",
    "                'L0R2U0','L0R2U1','L0R2U2','L0R2U3',\n",
    "                'L0R3U0','L0R3U1','L0R3U2','L0R3U3',\n",
    "                'L1R0U0','L1R0U1','L1R0U2','L1R0U3',\n",
    "                'L1R1U0','L1R1U1','L1R1U2','L1R1U3',\n",
    "                'L1R2U0','L1R2U1','L1R2U2','L1R2U3',\n",
    "                'L1R3U0','L1R3U1','L1R3U2','L1R3U3',\n",
    "                'L2R0U0','L2R0U1','L2R0U2','L2R0U3',\n",
    "                'L2R1U0','L2R1U1','L2R1U2','L2R1U3',\n",
    "                'L2R2U0','L2R2U1','L2R2U2','L2R2U3',\n",
    "                'L2R3U0','L2R3U1','L2R3U2','L2R3U3',\n",
    "                'L3R0U0','L3R0U1','L3R0U2','L3R0U3',\n",
    "                'L3R1U0','L3R1U1','L3R1U2','L3R1U3',\n",
    "                'L3R2U0','L3R2U1','L3R2U2','L3R2U3',\n",
    "                'L3R3U0','L3R3U1','L3R3U2','L3R3U3'])\n",
    "Actions=np.array(['Up','Down','Left_45D','Right_45D'])\n",
    "Actions_len=len(Actions)\n",
    "States_len=len(States)\n",
    "# print(Actions_len)\n",
    "# print(States_len)"
   ]
  },
  {
   "cell_type": "code",
   "execution_count": 33,
   "metadata": {},
   "outputs": [
    {
     "data": {
      "text/html": [
       "<div>\n",
       "<style>\n",
       "    .dataframe thead tr:only-child th {\n",
       "        text-align: right;\n",
       "    }\n",
       "\n",
       "    .dataframe thead th {\n",
       "        text-align: left;\n",
       "    }\n",
       "\n",
       "    .dataframe tbody tr th {\n",
       "        vertical-align: top;\n",
       "    }\n",
       "</style>\n",
       "<table border=\"1\" class=\"dataframe\">\n",
       "  <thead>\n",
       "    <tr style=\"text-align: right;\">\n",
       "      <th></th>\n",
       "      <th>Up</th>\n",
       "      <th>Down</th>\n",
       "      <th>Left_45D</th>\n",
       "      <th>Right_45D</th>\n",
       "    </tr>\n",
       "  </thead>\n",
       "  <tbody>\n",
       "    <tr>\n",
       "      <th>L0R0U0</th>\n",
       "      <td>0.0</td>\n",
       "      <td>0.0</td>\n",
       "      <td>0.0</td>\n",
       "      <td>0.0</td>\n",
       "    </tr>\n",
       "    <tr>\n",
       "      <th>L0R0U1</th>\n",
       "      <td>0.0</td>\n",
       "      <td>0.0</td>\n",
       "      <td>0.0</td>\n",
       "      <td>0.0</td>\n",
       "    </tr>\n",
       "    <tr>\n",
       "      <th>L0R0U2</th>\n",
       "      <td>0.0</td>\n",
       "      <td>0.0</td>\n",
       "      <td>0.0</td>\n",
       "      <td>0.0</td>\n",
       "    </tr>\n",
       "    <tr>\n",
       "      <th>L0R0U3</th>\n",
       "      <td>0.0</td>\n",
       "      <td>0.0</td>\n",
       "      <td>0.0</td>\n",
       "      <td>0.0</td>\n",
       "    </tr>\n",
       "    <tr>\n",
       "      <th>L0R1U0</th>\n",
       "      <td>0.0</td>\n",
       "      <td>0.0</td>\n",
       "      <td>0.0</td>\n",
       "      <td>0.0</td>\n",
       "    </tr>\n",
       "  </tbody>\n",
       "</table>\n",
       "</div>"
      ],
      "text/plain": [
       "         Up  Down  Left_45D  Right_45D\n",
       "L0R0U0  0.0   0.0       0.0        0.0\n",
       "L0R0U1  0.0   0.0       0.0        0.0\n",
       "L0R0U2  0.0   0.0       0.0        0.0\n",
       "L0R0U3  0.0   0.0       0.0        0.0\n",
       "L0R1U0  0.0   0.0       0.0        0.0"
      ]
     },
     "execution_count": 33,
     "metadata": {},
     "output_type": "execute_result"
    }
   ],
   "source": [
    "Q_Table_Real=np.zeros((States_len,Actions_len))\n",
    "Q_Table_Real=pd.DataFrame(Q_Table_Real,columns=Actions,index=States)\n",
    "Q_Table_Real.head()"
   ]
  },
  {
   "cell_type": "code",
   "execution_count": 34,
   "metadata": {},
   "outputs": [
    {
     "name": "stdout",
     "output_type": "stream",
     "text": [
      "***********************************************************\n",
      "Succeed to initialize Q-Table!\n",
      "***********************************************************\n",
      "(64, 4)\n",
      "[[ 0.  0.  0.  0.]\n",
      " [ 0.  0.  0.  0.]\n",
      " [ 0.  0.  0.  0.]\n",
      " [ 0.  0.  0.  0.]\n",
      " [ 0.  0.  0.  0.]\n",
      " [ 0.  0.  0.  0.]\n",
      " [ 0.  0.  0.  0.]\n",
      " [ 0.  0.  0.  0.]\n",
      " [ 0.  0.  0.  0.]\n",
      " [ 0.  0.  0.  0.]]\n"
     ]
    }
   ],
   "source": [
    "def Initial_Q_Table(Actions_len_,States_len_):\n",
    "    Q_Table_=np.zeros((States_len_,Actions_len_))\n",
    "    print('***********************************************************')\n",
    "    print(\"Succeed to initialize Q-Table!\")\n",
    "    print('***********************************************************')\n",
    "    return Q_Table_\n",
    "Q_Table=Initial_Q_Table(Actions_len,States_len)\n",
    "print(Q_Table.shape)\n",
    "print(Q_Table[:10])"
   ]
  },
  {
   "cell_type": "code",
   "execution_count": 35,
   "metadata": {},
   "outputs": [
    {
     "data": {
      "image/png": "[encoded data removed]",
      "text/plain": [
       "<matplotlib.figure.Figure at 0x25cbd4afcf8>"
      ]
     },
     "metadata": {},
     "output_type": "display_data"
    }
   ],
   "source": [
    "#Draw_map1 funcion is used to train the first Q-Table, which allows it to avoid obstacles\n",
    "im = Image.new(\"I\", size=(2000,2000),color=0) #Color means the degree of Gray scale, 255 means white, 0 means black\n",
    "draw = ImageDraw.Draw(im,mode='I') #mode=\"I\" means the made degree of Gray scale\n",
    "#Draw the black frame around the rectangle\n",
    "draw.rectangle((40,40,1960,1960),255,255)  #the last elements means the color of the inner graph and that of the outer frame\n",
    "def Draw_map1():\n",
    "    draw.ellipse((800,900,880,980),150, 150)\n",
    "    draw.rectangle((1500,1000,1600,1100),0, 0) \n",
    "    draw.ellipse((400,700,600,900),0, 0) \n",
    "    draw.rectangle((200,300,500,600),0, 0) \n",
    "    draw.ellipse((1500,500,1800,800),0, 0) \n",
    "    draw.ellipse((1200,1400,1600,1800),0, 0) \n",
    "    draw.rectangle((700,1200,960,1460),0, 0) \n",
    "    draw.ellipse((300,1600,500,1800),0, 0) \n",
    "    draw.rectangle((100,1100,300,1300),0, 0) \n",
    "    draw.ellipse((1100,250,1300,450),0, 0) \n",
    "    draw.polygon((900, 1070,1120, 1000,1150, 1100, 1100,1090,1050, 1200), 0, 0)\n",
    "    draw.pieslice((750, 1700, 950, 1900), 0,180,0,0)\n",
    "    draw.ellipse((900,550,1050,700),0, 0)\n",
    "    draw.ellipse((650,100,850,300),0, 0) \n",
    "    draw.rectangle((1700,130,1900,330),0, 0)\n",
    "    draw.polygon((150, 180, 200, 180, 250, 120, 230, 90, 130, 100), 0, 0)\n",
    "Draw_map1()\n",
    "plt.imshow(im)\n",
    "plt.show()"
   ]
  },
  {
   "cell_type": "code",
   "execution_count": 36,
   "metadata": {
    "collapsed": true
   },
   "outputs": [],
   "source": [
    "#Function Scan is used to detect the distance between obstacles and robot.\n",
    "#Nearest(<50cm)||Near(50cm-130cm)||Medium(130cm-210cm)|Far(>210cm)\n",
    "#Furthest scanning distance is defined as 290cm\n",
    "def Scan(Current_x,Current_y,Angle):\n",
    "    Dis_level=0\n",
    "    Obs_dis=Robot_R\n",
    "    Obs_line_x=[]\n",
    "    Obs_line_y=[]\n",
    "    Obs_dis_x=Current_x+Obs_dis*np.cos(Angle/180*np.pi)\n",
    "    Obs_dis_y=Current_y+Obs_dis*np.sin(Angle/180*np.pi)\n",
    "    while(im.getpixel((Obs_dis_x,Obs_dis_y))!=0 and Obs_dis<250):#getpixiel obtains the degree of Gray Scale\n",
    "        Obs_dis+=5  #Search interval, can be changed\n",
    "        Obs_dis_x=Current_x+Obs_dis*np.cos(Angle/180*np.pi)\n",
    "        Obs_line_x.append(Obs_dis_x)\n",
    "        Obs_dis_y=Current_y+Obs_dis*np.sin(Angle/180*np.pi)\n",
    "        Obs_line_y.append(Obs_dis_y)\n",
    "    if 0<=Obs_dis<90:\n",
    "        dis_level=0 #Nearear\n",
    "    elif 90<=Obs_dis<170:\n",
    "        dis_level=1 #Near\n",
    "    elif 170<=Obs_dis<250:\n",
    "        dis_level=2 #Medium\n",
    "    else:\n",
    "        dis_level=3 #Far\n",
    "#     Obs_line_xy=list(zip(Obs_line_x,Obs_line_y))\n",
    "#     draw.line(Obs_line_xy, width=12)\n",
    "    return dis_level\n",
    "# print(Scan(1133,1408,20))\n",
    "# plt.imshow(im)\n",
    "# plt.show()"
   ]
  },
  {
   "cell_type": "code",
   "execution_count": 37,
   "metadata": {
    "collapsed": true
   },
   "outputs": [],
   "source": [
    "def Is_Crash(Current_x_,Current_y_):\n",
    "    Crash_=False\n",
    "    Degree=[-150,-120,-90,-60,-30,0,30,60,90,120,150,180]\n",
    "    Dis=np.arange(0,50,5)\n",
    "    for i in Dis:\n",
    "        for j in Degree:\n",
    "            x_=Current_x_+i*np.cos(j/180*np.pi)\n",
    "            y_=Current_y_+i*np.sin(j/180*np.pi)\n",
    "            if (im.getpixel((x_,y_)))==0:\n",
    "                Crash_=True\n",
    "                break\n",
    "        if Crash_==True:\n",
    "                break\n",
    "    return Crash_"
   ]
  },
  {
   "cell_type": "code",
   "execution_count": 38,
   "metadata": {},
   "outputs": [
    {
     "name": "stdout",
     "output_type": "stream",
     "text": [
      "(250.48007726893707, 1063.0243248763127, 0)\n"
     ]
    }
   ],
   "source": [
    "def Random_start():\n",
    "    Angle_=0\n",
    "    x_,y_=np.random.random(2)*2000\n",
    "    while(Is_Crash(x_,y_)==True):\n",
    "#         print('Boom')\n",
    "        x_,y_=np.random.random(2)*2000\n",
    "    return x_,y_,Angle_\n",
    "print(Random_start())"
   ]
  },
  {
   "cell_type": "code",
   "execution_count": 39,
   "metadata": {
    "collapsed": true
   },
   "outputs": [],
   "source": [
    "LRU=[] #LRU register to maximum values of up, left, right.\n",
    "def Direction_min_level(Degree,Current_x,Current_y,Rotbot_angle):\n",
    "    Level=[]\n",
    "    Degree=Degree+Rotbot_angle\n",
    "    for i in Degree:\n",
    "        Level.append(Scan(Current_x,Current_y,i))\n",
    "    return min(Level)\n",
    "# Left_min=Direction_min_level(Left_D,1133,1408)\n",
    "# Right_min=Direction_min_level(Right_D,1133,1408) \n",
    "# Up_min=Direction_min_level(Up_D,1133,1408)"
   ]
  },
  {
   "cell_type": "code",
   "execution_count": 40,
   "metadata": {
    "collapsed": true
   },
   "outputs": [],
   "source": [
    "def Output_state_index(Left_min_,Right_min_,Up_min_):\n",
    "    LRU=[]\n",
    "    LRU.append(Left_min_)\n",
    "    LRU.append(Right_min_)\n",
    "    LRU.append(Up_min_)\n",
    "    return LRU[0]*16+LRU[1]*4+LRU[2]\n",
    "# print(Output_state_index(Left_min,Right_min,Up_min))"
   ]
  },
  {
   "cell_type": "code",
   "execution_count": 41,
   "metadata": {
    "collapsed": true
   },
   "outputs": [],
   "source": [
    "#Choose_action is used to selection an action during the training process. It is based on the greedy strategy, if the random \n",
    "#chosen float(0-1) is inferior to current epsilon, robot choose random action to explore, if not, choose maximun Q value\n",
    "#action based on Q Table, more precisely based on the action-state range\n",
    "def Choose_action(Q_Table_,Current_state_,Action_times_):\n",
    "    Epsilon=Epsilon_final+(Epsilon_start-Epsilon_final)*np.exp(-1*Decay_Rate*Action_times_)\n",
    "    State_action_=Q_Table_[Current_state_,:]\n",
    "    if(np.random.random()<Epsilon or np.all(State_action_==[0])):\n",
    "        Action_next=np.random.randint(Actions_len)\n",
    "    else:\n",
    "        Action_next=np.argmax(State_action_)\n",
    "    return Action_next\n",
    "#print(Choose_action(Q_Table,20,0))"
   ]
  },
  {
   "cell_type": "code",
   "execution_count": 42,
   "metadata": {
    "collapsed": true
   },
   "outputs": [],
   "source": [
    "def Next_state_F(Current_x_,Current_y_,Action_,Robot_angle_):\n",
    "    R=1\n",
    "    Crash_=False\n",
    "    if Action_==0:\n",
    "        Next_x_=Current_x_+Velocity_tripod*np.cos(Robot_angle_/180*np.pi)\n",
    "        Next_y_=Current_y_+Velocity_tripod*np.sin(Robot_angle_/180*np.pi)\n",
    "#         print(Next_x_)\n",
    "#         print(Next_y_)\n",
    "        if Is_Crash(Next_x_, Next_y_)==True:\n",
    "            Crash_=True\n",
    "            R=-50\n",
    "    elif Action_==1:\n",
    "        Next_x_=Current_x_-Velocity_tripod*np.cos(Robot_angle_/180*np.pi)\n",
    "        Next_y_=Current_y_-Velocity_tripod*np.sin(Robot_angle_/180*np.pi)\n",
    "        if Is_Crash(Next_x_, Next_y_)==True:\n",
    "            Crash_=True\n",
    "            R=-50\n",
    "    elif Action_==2:\n",
    "        Robot_angle_=Robot_angle_-45\n",
    "        Next_x_=Current_x_\n",
    "        Next_y_=Current_y_\n",
    "    elif Action_==3:\n",
    "        Robot_angle_=Robot_angle_+45\n",
    "        Next_x_=Current_x_\n",
    "        Next_y_=Current_y_\n",
    "    return Next_x_,Next_y_,R,Robot_angle_,Crash_"
   ]
  },
  {
   "cell_type": "code",
   "execution_count": 43,
   "metadata": {
    "collapsed": true
   },
   "outputs": [],
   "source": [
    "#     Obs_line_xy=list(zip(Obs_line_x,Obs_line_y))\n",
    "#     draw.line(Obs_line_xy, width=12)\n",
    "def Plot_Move(Vec_x_,Vec_y_):\n",
    "    im1=Image.new(\"I\", size=(2000,2000),color=0)\n",
    "    draw1 = ImageDraw.Draw(im1,mode='I')\n",
    "    draw1.rectangle((40,40,1960,1960),255,255)\n",
    "    draw1.ellipse((800,900,880,980),150, 150)\n",
    "    draw1.rectangle((1500,1000,1600,1100),0, 0) \n",
    "    draw1.ellipse((400,700,600,900),0, 0) \n",
    "    draw1.rectangle((200,300,500,600),0, 0) \n",
    "    draw1.ellipse((1500,500,1800,800),0, 0) \n",
    "    draw1.ellipse((1200,1400,1600,1800),0, 0) \n",
    "    draw1.rectangle((700,1200,960,1460),0, 0) \n",
    "    draw1.ellipse((300,1600,500,1800),0, 0) \n",
    "    draw1.rectangle((100,1100,300,1300),0, 0) \n",
    "    draw1.ellipse((1100,250,1300,450),0, 0) \n",
    "    draw1.polygon((900, 1070,1120, 1000,1150, 1100, 1100,1090,1050, 1200), 0, 0)\n",
    "    draw1.pieslice((750, 1700, 950, 1900), 0,180,0,0)\n",
    "    draw1.ellipse((900,550,1050,700),0, 0)\n",
    "    draw1.ellipse((650,100,850,300),0, 0) \n",
    "    draw1.rectangle((1700,130,1900,330),0, 0)\n",
    "    draw1.polygon((150, 180, 200, 180, 250, 120, 230, 90, 130, 100), 0, 0)\n",
    "    draw1.ellipse((Vec_x_[0]-40,Vec_y_[0]-40, Vec_x_[0]+40,Vec_y_[0]+40),5,5) \n",
    "    for i,j in zip(Vec_x_[1:],Vec_y_[1:]):\n",
    "        draw1.ellipse((i-40,j-40, i+40,j+40),150,150) \n",
    "    plt.imshow(im1)\n",
    "    plt.show()\n",
    "    del draw1\n",
    "    del im1"
   ]
  },
  {
   "cell_type": "code",
   "execution_count": 44,
   "metadata": {},
   "outputs": [
    {
     "name": "stdout",
     "output_type": "stream",
     "text": [
      "***********************************************************\n",
      "Succeed to initialize Q-Table!\n",
      "***********************************************************\n"
     ]
    }
   ],
   "source": [
    "Q_Table=Initial_Q_Table(Actions_len,States_len)\n",
    "global Epoche\n",
    "Epoche=0\n",
    "global Action_times #Rigister the totality of the times of selecting actions, including the random selections and selection based on Q_Table\n",
    "Action_times=0\n",
    "global Epoche_action_interval\n",
    "Epoche_action_interval=[]"
   ]
  },
  {
   "cell_type": "code",
   "execution_count": 45,
   "metadata": {
    "scrolled": false
   },
   "outputs": [
    {
     "name": "stdout",
     "output_type": "stream",
     "text": [
      "\n",
      "***********************************************************\n",
      "Epoche\n",
      "0\n",
      "Action_times\n",
      "517\n",
      "Epsilon\n",
      "0.999488302285\n"
     ]
    },
    {
     "data": {
      "image/png": "[encoded data removed]",
      "text/plain": [
       "<matplotlib.figure.Figure at 0x25cbb53bcf8>"
      ]
     },
     "metadata": {},
     "output_type": "display_data"
    },
    {
     "name": "stdout",
     "output_type": "stream",
     "text": [
      "***********************************************************\n",
      "Epoche\n",
      "10\n",
      "Action_times\n",
      "23978\n",
      "Epsilon\n",
      "0.976544116397\n"
     ]
    },
    {
     "data": {
      "image/png": "[encoded data removed]",
      "text/plain": [
       "<matplotlib.figure.Figure at 0x25cbb767828>"
      ]
     },
     "metadata": {},
     "output_type": "display_data"
    },
    {
     "name": "stdout",
     "output_type": "stream",
     "text": [
      "***********************************************************\n",
      "Epoche\n",
      "20\n",
      "Action_times\n",
      "40823\n",
      "Epsilon\n",
      "0.960399044393\n"
     ]
    },
    {
     "data": {
      "image/png": "[encoded data removed]",
      "text/plain": [
       "<matplotlib.figure.Figure at 0x25cbbb121d0>"
      ]
     },
     "metadata": {},
     "output_type": "display_data"
    },
    {
     "name": "stdout",
     "output_type": "stream",
     "text": [
      "***********************************************************\n",
      "Epoche\n",
      "30\n",
      "Action_times\n",
      "104279\n",
      "Epsilon\n",
      "0.90196415173\n"
     ]
    },
    {
     "data": {
      "image/png": "[encoded data removed]",
      "text/plain": [
       "<matplotlib.figure.Figure at 0x25cbabf3ac8>"
      ]
     },
     "metadata": {},
     "output_type": "display_data"
    },
    {
     "ename": "KeyboardInterrupt",
     "evalue": "",
     "output_type": "error",
     "traceback": [
      "\u001b[1;31m---------------------------------------------------------------------------\u001b[0m",
      "\u001b[1;31mKeyboardInterrupt\u001b[0m                         Traceback (most recent call last)",
      "\u001b[1;32m<ipython-input-45-8f35317ea258>\u001b[0m in \u001b[0;36m<module>\u001b[1;34m()\u001b[0m\n\u001b[0;32m     57\u001b[0m     \u001b[1;32mreturn\u001b[0m \u001b[0mQ_Table\u001b[0m\u001b[1;33m\u001b[0m\u001b[0m\n\u001b[0;32m     58\u001b[0m \u001b[0mprint\u001b[0m\u001b[1;33m(\u001b[0m\u001b[1;33m)\u001b[0m\u001b[1;33m\u001b[0m\u001b[0m\n\u001b[1;32m---> 59\u001b[1;33m \u001b[0mQ_Table_Final\u001b[0m\u001b[1;33m=\u001b[0m\u001b[0mRun1\u001b[0m\u001b[1;33m(\u001b[0m\u001b[1;33m)\u001b[0m\u001b[1;33m\u001b[0m\u001b[0m\n\u001b[0m\u001b[0;32m     60\u001b[0m \u001b[0mQ_Table_Final\u001b[0m\u001b[1;33m=\u001b[0m\u001b[0mpd\u001b[0m\u001b[1;33m.\u001b[0m\u001b[0mDataFrame\u001b[0m\u001b[1;33m(\u001b[0m\u001b[0mQ_Table_Final\u001b[0m\u001b[1;33m,\u001b[0m\u001b[0mcolumns\u001b[0m\u001b[1;33m=\u001b[0m\u001b[0mActions\u001b[0m\u001b[1;33m,\u001b[0m\u001b[0mindex\u001b[0m\u001b[1;33m=\u001b[0m\u001b[0mStates\u001b[0m\u001b[1;33m)\u001b[0m\u001b[1;33m\u001b[0m\u001b[0m\n\u001b[0;32m     61\u001b[0m \u001b[0mQ_Table_Final\u001b[0m\u001b[1;33m\u001b[0m\u001b[0m\n",
      "\u001b[1;32m<ipython-input-45-8f35317ea258>\u001b[0m in \u001b[0;36mRun1\u001b[1;34m()\u001b[0m\n\u001b[0;32m     14\u001b[0m         \u001b[0mCurrent_Left_Obs_Lev\u001b[0m\u001b[1;33m=\u001b[0m\u001b[0mDirection_min_level\u001b[0m\u001b[1;33m(\u001b[0m\u001b[0mLeft_D\u001b[0m\u001b[1;33m,\u001b[0m\u001b[0mCurrent_x\u001b[0m\u001b[1;33m,\u001b[0m\u001b[0mCurrent_y\u001b[0m\u001b[1;33m,\u001b[0m\u001b[0mCurrent_a\u001b[0m\u001b[1;33m)\u001b[0m\u001b[1;33m\u001b[0m\u001b[0m\n\u001b[0;32m     15\u001b[0m         \u001b[0mCurrent_Right_Obs_Lev\u001b[0m\u001b[1;33m=\u001b[0m\u001b[0mDirection_min_level\u001b[0m\u001b[1;33m(\u001b[0m\u001b[0mRight_D\u001b[0m\u001b[1;33m,\u001b[0m\u001b[0mCurrent_x\u001b[0m\u001b[1;33m,\u001b[0m\u001b[0mCurrent_y\u001b[0m\u001b[1;33m,\u001b[0m\u001b[0mCurrent_a\u001b[0m\u001b[1;33m)\u001b[0m\u001b[1;33m\u001b[0m\u001b[0m\n\u001b[1;32m---> 16\u001b[1;33m         \u001b[0mCurrent_Up_Obs_Lev\u001b[0m\u001b[1;33m=\u001b[0m\u001b[0mDirection_min_level\u001b[0m\u001b[1;33m(\u001b[0m\u001b[0mUp_D\u001b[0m\u001b[1;33m,\u001b[0m\u001b[0mCurrent_x\u001b[0m\u001b[1;33m,\u001b[0m\u001b[0mCurrent_y\u001b[0m\u001b[1;33m,\u001b[0m\u001b[0mCurrent_a\u001b[0m\u001b[1;33m)\u001b[0m\u001b[1;33m\u001b[0m\u001b[0m\n\u001b[0m\u001b[0;32m     17\u001b[0m         \u001b[0mCurrent_state\u001b[0m\u001b[1;33m=\u001b[0m\u001b[0mOutput_state_index\u001b[0m\u001b[1;33m(\u001b[0m\u001b[0mCurrent_Left_Obs_Lev\u001b[0m\u001b[1;33m,\u001b[0m\u001b[0mCurrent_Right_Obs_Lev\u001b[0m\u001b[1;33m,\u001b[0m\u001b[0mCurrent_Up_Obs_Lev\u001b[0m\u001b[1;33m)\u001b[0m\u001b[1;33m\u001b[0m\u001b[0m\n\u001b[0;32m     18\u001b[0m \u001b[1;33m\u001b[0m\u001b[0m\n",
      "\u001b[1;32m<ipython-input-39-1dc94eb146c5>\u001b[0m in \u001b[0;36mDirection_min_level\u001b[1;34m(Degree, Current_x, Current_y, Rotbot_angle)\u001b[0m\n\u001b[0;32m      4\u001b[0m     \u001b[0mDegree\u001b[0m\u001b[1;33m=\u001b[0m\u001b[0mDegree\u001b[0m\u001b[1;33m+\u001b[0m\u001b[0mRotbot_angle\u001b[0m\u001b[1;33m\u001b[0m\u001b[0m\n\u001b[0;32m      5\u001b[0m     \u001b[1;32mfor\u001b[0m \u001b[0mi\u001b[0m \u001b[1;32min\u001b[0m \u001b[0mDegree\u001b[0m\u001b[1;33m:\u001b[0m\u001b[1;33m\u001b[0m\u001b[0m\n\u001b[1;32m----> 6\u001b[1;33m         \u001b[0mLevel\u001b[0m\u001b[1;33m.\u001b[0m\u001b[0mappend\u001b[0m\u001b[1;33m(\u001b[0m\u001b[0mScan\u001b[0m\u001b[1;33m(\u001b[0m\u001b[0mCurrent_x\u001b[0m\u001b[1;33m,\u001b[0m\u001b[0mCurrent_y\u001b[0m\u001b[1;33m,\u001b[0m\u001b[0mi\u001b[0m\u001b[1;33m)\u001b[0m\u001b[1;33m)\u001b[0m\u001b[1;33m\u001b[0m\u001b[0m\n\u001b[0m\u001b[0;32m      7\u001b[0m     \u001b[1;32mreturn\u001b[0m \u001b[0mmin\u001b[0m\u001b[1;33m(\u001b[0m\u001b[0mLevel\u001b[0m\u001b[1;33m)\u001b[0m\u001b[1;33m\u001b[0m\u001b[0m\n\u001b[0;32m      8\u001b[0m \u001b[1;31m# Left_min=Direction_min_level(Left_D,1133,1408)\u001b[0m\u001b[1;33m\u001b[0m\u001b[1;33m\u001b[0m\u001b[0m\n",
      "\u001b[1;32m<ipython-input-36-46521d4ecc50>\u001b[0m in \u001b[0;36mScan\u001b[1;34m(Current_x, Current_y, Angle)\u001b[0m\n\u001b[0;32m      9\u001b[0m     \u001b[0mObs_dis_x\u001b[0m\u001b[1;33m=\u001b[0m\u001b[0mCurrent_x\u001b[0m\u001b[1;33m+\u001b[0m\u001b[0mObs_dis\u001b[0m\u001b[1;33m*\u001b[0m\u001b[0mnp\u001b[0m\u001b[1;33m.\u001b[0m\u001b[0mcos\u001b[0m\u001b[1;33m(\u001b[0m\u001b[0mAngle\u001b[0m\u001b[1;33m/\u001b[0m\u001b[1;36m180\u001b[0m\u001b[1;33m*\u001b[0m\u001b[0mnp\u001b[0m\u001b[1;33m.\u001b[0m\u001b[0mpi\u001b[0m\u001b[1;33m)\u001b[0m\u001b[1;33m\u001b[0m\u001b[0m\n\u001b[0;32m     10\u001b[0m     \u001b[0mObs_dis_y\u001b[0m\u001b[1;33m=\u001b[0m\u001b[0mCurrent_y\u001b[0m\u001b[1;33m+\u001b[0m\u001b[0mObs_dis\u001b[0m\u001b[1;33m*\u001b[0m\u001b[0mnp\u001b[0m\u001b[1;33m.\u001b[0m\u001b[0msin\u001b[0m\u001b[1;33m(\u001b[0m\u001b[0mAngle\u001b[0m\u001b[1;33m/\u001b[0m\u001b[1;36m180\u001b[0m\u001b[1;33m*\u001b[0m\u001b[0mnp\u001b[0m\u001b[1;33m.\u001b[0m\u001b[0mpi\u001b[0m\u001b[1;33m)\u001b[0m\u001b[1;33m\u001b[0m\u001b[0m\n\u001b[1;32m---> 11\u001b[1;33m     \u001b[1;32mwhile\u001b[0m\u001b[1;33m(\u001b[0m\u001b[0mim\u001b[0m\u001b[1;33m.\u001b[0m\u001b[0mgetpixel\u001b[0m\u001b[1;33m(\u001b[0m\u001b[1;33m(\u001b[0m\u001b[0mObs_dis_x\u001b[0m\u001b[1;33m,\u001b[0m\u001b[0mObs_dis_y\u001b[0m\u001b[1;33m)\u001b[0m\u001b[1;33m)\u001b[0m\u001b[1;33m!=\u001b[0m\u001b[1;36m0\u001b[0m \u001b[1;32mand\u001b[0m \u001b[0mObs_dis\u001b[0m\u001b[1;33m<\u001b[0m\u001b[1;36m250\u001b[0m\u001b[1;33m)\u001b[0m\u001b[1;33m:\u001b[0m\u001b[1;31m#getpixiel obtains the degree of Gray Scale\u001b[0m\u001b[1;33m\u001b[0m\u001b[0m\n\u001b[0m\u001b[0;32m     12\u001b[0m         \u001b[0mObs_dis\u001b[0m\u001b[1;33m+=\u001b[0m\u001b[1;36m5\u001b[0m  \u001b[1;31m#Search interval, can be changed\u001b[0m\u001b[1;33m\u001b[0m\u001b[0m\n\u001b[0;32m     13\u001b[0m         \u001b[0mObs_dis_x\u001b[0m\u001b[1;33m=\u001b[0m\u001b[0mCurrent_x\u001b[0m\u001b[1;33m+\u001b[0m\u001b[0mObs_dis\u001b[0m\u001b[1;33m*\u001b[0m\u001b[0mnp\u001b[0m\u001b[1;33m.\u001b[0m\u001b[0mcos\u001b[0m\u001b[1;33m(\u001b[0m\u001b[0mAngle\u001b[0m\u001b[1;33m/\u001b[0m\u001b[1;36m180\u001b[0m\u001b[1;33m*\u001b[0m\u001b[0mnp\u001b[0m\u001b[1;33m.\u001b[0m\u001b[0mpi\u001b[0m\u001b[1;33m)\u001b[0m\u001b[1;33m\u001b[0m\u001b[0m\n",
      "\u001b[1;32mD:\\Miniconda\\Miniconda1\\lib\\site-packages\\PIL\\Image.py\u001b[0m in \u001b[0;36mgetpixel\u001b[1;34m(self, xy)\u001b[0m\n\u001b[0;32m   1312\u001b[0m \u001b[1;33m\u001b[0m\u001b[0m\n\u001b[0;32m   1313\u001b[0m         \u001b[0mself\u001b[0m\u001b[1;33m.\u001b[0m\u001b[0mload\u001b[0m\u001b[1;33m(\u001b[0m\u001b[1;33m)\u001b[0m\u001b[1;33m\u001b[0m\u001b[0m\n\u001b[1;32m-> 1314\u001b[1;33m         \u001b[1;32mif\u001b[0m \u001b[0mself\u001b[0m\u001b[1;33m.\u001b[0m\u001b[0mpyaccess\u001b[0m\u001b[1;33m:\u001b[0m\u001b[1;33m\u001b[0m\u001b[0m\n\u001b[0m\u001b[0;32m   1315\u001b[0m             \u001b[1;32mreturn\u001b[0m \u001b[0mself\u001b[0m\u001b[1;33m.\u001b[0m\u001b[0mpyaccess\u001b[0m\u001b[1;33m.\u001b[0m\u001b[0mgetpixel\u001b[0m\u001b[1;33m(\u001b[0m\u001b[0mxy\u001b[0m\u001b[1;33m)\u001b[0m\u001b[1;33m\u001b[0m\u001b[0m\n\u001b[0;32m   1316\u001b[0m         \u001b[1;32mreturn\u001b[0m \u001b[0mself\u001b[0m\u001b[1;33m.\u001b[0m\u001b[0mim\u001b[0m\u001b[1;33m.\u001b[0m\u001b[0mgetpixel\u001b[0m\u001b[1;33m(\u001b[0m\u001b[0mxy\u001b[0m\u001b[1;33m)\u001b[0m\u001b[1;33m\u001b[0m\u001b[0m\n",
      "\u001b[1;31mKeyboardInterrupt\u001b[0m: "
     ]
    }
   ],
   "source": [
    "def Run1():\n",
    "    global Epoche\n",
    "    global Action_times\n",
    "    global Epoche_action_interval\n",
    "    Crash=False\n",
    "    Current_x,Current_y,Current_a=Random_start()\n",
    "    Epoche_false=0\n",
    "    Vec_x=[]\n",
    "    Vec_y=[]\n",
    "    Vec_x.append(Current_x)\n",
    "    Vec_y.append(Current_y)\n",
    "    Epoche_action_times=0\n",
    "    while Epoche_false<100:\n",
    "        Current_Left_Obs_Lev=Direction_min_level(Left_D,Current_x,Current_y,Current_a)\n",
    "        Current_Right_Obs_Lev=Direction_min_level(Right_D,Current_x,Current_y,Current_a)\n",
    "        Current_Up_Obs_Lev=Direction_min_level(Up_D,Current_x,Current_y,Current_a)\n",
    "        Current_state=Output_state_index(Current_Left_Obs_Lev,Current_Right_Obs_Lev,Current_Up_Obs_Lev)\n",
    "        \n",
    "        Action_next=Choose_action(Q_Table,Current_state,Action_times)\n",
    "        Next_x,Next_y,R,Next_a,Crash=Next_state_F(Current_x,Current_y,Action_next,Current_a)\n",
    "        \n",
    "        if Crash==True:\n",
    "            Q_target=R\n",
    "            if(Epoche%10==0):\n",
    "                print('***********************************************************')\n",
    "                print('Epoche')\n",
    "                print(Epoche)\n",
    "                print(\"Action_times\")\n",
    "                print(Action_times)\n",
    "                print(\"Epsilon\")\n",
    "                print(Epsilon_final+(Epsilon_start-Epsilon_final)*np.exp(-1*Decay_Rate*Action_times))\n",
    "                Plot_Move(Vec_x,Vec_y)\n",
    "                Vec_x=[]\n",
    "                Vec_y=[]\n",
    "            Epoche+=1\n",
    "            Epoche_false+=1\n",
    "            Next_x,Next_y,Next_a=Random_start()\n",
    "            Epoche_action_interval.append(Epoche_action_times)\n",
    "            Epoche_action_times=0\n",
    "        \n",
    "        else:\n",
    "            Next_Left_Obs_Lev=Direction_min_level(Left_D,Next_x,Next_y,Next_a)\n",
    "            Next_Right_Obs_Lev=Direction_min_level(Right_D,Next_x,Next_y,Next_a)\n",
    "            Next_Up_Obs_Lev=Direction_min_level(Up_D,Next_x,Next_y,Next_a)\n",
    "            Next_state=Output_state_index(Next_Left_Obs_Lev,Next_Right_Obs_Lev,Next_Up_Obs_Lev)\n",
    "            Q_target=R+Beta*max(Q_Table[Next_state])\n",
    "            \n",
    "        Q_Table[Current_state][Action_next]+=Alpha*(Q_target-Q_Table[Current_state][Action_next])\n",
    "        Current_x=Next_x\n",
    "        Current_y=Next_y\n",
    "        Current_a=Next_a\n",
    "        Vec_x.append(Current_x)\n",
    "        Vec_y.append(Current_y)\n",
    "        Action_times+=1\n",
    "        Epoche_action_times+=1\n",
    "    plt.plot(np.arange(len(Epoche_action_interval)),Epoche_action_interval)\n",
    "    return Q_Table\n",
    "print()\n",
    "Q_Table_Final=Run1()\n",
    "Q_Table_Final=pd.DataFrame(Q_Table_Final,columns=Actions,index=States)\n",
    "Q_Table_Final\n"
   ]
  },
  {
   "cell_type": "code",
   "execution_count": null,
   "metadata": {},
   "outputs": [],
   "source": [
    "def test(Q_Table_):\n",
    "    Crash=False\n",
    "    Current_x,Current_y,Current_a=Random_start()\n",
    "    Test_time=0\n",
    "    Vec_x=[]\n",
    "    Vec_y=[]\n",
    "    print(Vec_x)\n",
    "    while Test_time<10000:\n",
    "        Current_Left_Obs_Lev=Direction_min_level(Left_D,Current_x,Current_y,Current_a)\n",
    "        Current_Right_Obs_Lev=Direction_min_level(Right_D,Current_x,Current_y,Current_a)\n",
    "        Current_Up_Obs_Lev=Direction_min_level(Up_D,Current_x,Current_y,Current_a)\n",
    "        Current_state=Output_state_index(Current_Left_Obs_Lev,Current_Right_Obs_Lev,Current_Up_Obs_Lev)\n",
    "        Action_next=np.argmax(Q_Table_[Current_state])\n",
    "#         print('Current_state')\n",
    "#         print(Current_state)\n",
    "#         print('Action_next')\n",
    "#         print(Action_next)\n",
    "        Next_x,Next_y,R,Next_a,Crash=Next_state_F(Current_x,Current_y,Action_next,Current_a)\n",
    "#         print(Current_a%360)\n",
    "        \n",
    "        Vec_x.append(Current_x)\n",
    "        Vec_y.append(Current_y)\n",
    "        if Crash==True:\n",
    "            print('Boom')\n",
    "            print(Test_time)\n",
    "            break\n",
    "        else:\n",
    "            if(Test_time%1000==0):\n",
    "                Plot_Move(Vec_x,Vec_y)\n",
    "                Vec_x=[]\n",
    "                Vec_y=[]\n",
    "                Next_x,Next_y,Current_a=Random_start()\n",
    "                print(\"******************\")\n",
    "                print()\n",
    "#                 print(im.getpixel((Mext_x,Next_y)))\n",
    "                print(Test_time)\n",
    "                print(\"******************\")\n",
    "        Current_x=Next_x\n",
    "        Current_y=Next_y\n",
    "        Current_a=Next_a\n",
    "        Test_time+=1\n",
    "test(Q_Table_Final.as_matrix())\n",
    "np.savetxt(\"Q_Table.txt\",Q_Table_Final.as_matrix())\n",
    "            "
   ]
  },
  {
   "cell_type": "code",
   "execution_count": null,
   "metadata": {},
   "outputs": [],
   "source": [
    "Q_Table_Final.iloc[30,:]"
   ]
  },
  {
   "cell_type": "code",
   "execution_count": null,
   "metadata": {},
   "outputs": [],
   "source": [
    "np.array([1,1,1])+2"
   ]
  }
 ],
 "metadata": {
  "kernelspec": {
   "display_name": "Python 3",
   "language": "python",
   "name": "python3"
  },
  "language_info": {
   "codemirror_mode": {
    "name": "ipython",
    "version": 3
   },
   "file_extension": ".py",
   "mimetype": "text/x-python",
   "name": "python",
   "nbconvert_exporter": "python",
   "pygments_lexer": "ipython3",
   "version": "3.6.2"
  }
 },
 "nbformat": 4,
 "nbformat_minor": 2
}
